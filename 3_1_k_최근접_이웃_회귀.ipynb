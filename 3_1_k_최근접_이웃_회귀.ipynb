{
  "nbformat": 4,
  "nbformat_minor": 0,
  "metadata": {
    "colab": {
      "name": "3-1-k-최근접_이웃_회귀.ipynb",
      "provenance": [],
      "collapsed_sections": [],
      "authorship_tag": "ABX9TyMnn2VDHyvGyaDBP7nJttKW"
    },
    "kernelspec": {
      "name": "python3",
      "display_name": "Python 3"
    },
    "language_info": {
      "name": "python"
    }
  },
  "cells": [
    {
      "cell_type": "markdown",
      "metadata": {
        "id": "-vN4yFhka_i7"
      },
      "source": [
        "## k-최근접 이웃 회귀\n",
        "지도학습은 크게 분류와 **회귀(regression)**으로 나뉜다. 회귀는 결과값으로 임의의 수치를 출력한다\n",
        "\n",
        "k-최근접 이웃 회귀는 k-최근접 이웃 분류와 비슷하게, 예측하려는 샘플과 가장 가까운 샘플 k개를 선택하고 이 샘플들의 평균값을 출력한다\n",
        "\n",
        "\n",
        "## 데이터 준비\n"
      ]
    },
    {
      "cell_type": "code",
      "metadata": {
        "colab": {
          "base_uri": "https://localhost:8080/",
          "height": 279
        },
        "id": "mgmJkyxmabAd",
        "outputId": "1327000c-1bdf-49cb-a921-273cca812690"
      },
      "source": [
        "import numpy as np\n",
        "perch_length = np.array(\n",
        "    [ 8.4, 13.7, 15.0, 16.2, 17.4, 18.0, 18.7, 19.0, 19.6, 20.0,\n",
        "     21.0, 21.0, 21.0, 21.3, 22.0, 22.0, 22.0, 22.0, 22.0, 22.5,\n",
        "     22.5, 22.7, 23.0, 23.5, 24.0, 24.0, 24.6, 25.0, 25.6, 26.5,\n",
        "     27.3, 27.5, 27.5, 27.5, 28.0, 28.7, 30.0, 32.8, 34.5, 35.0,\n",
        "     36.5, 35.0, 37.0, 37.0, 39.0, 39.0, 39.0, 40.0, 40.0, 40.0,\n",
        "     40.0, 42.0, 43.0, 43.0, 43.5, 44.0]\n",
        ")\n",
        "perch_weight = np.array(\n",
        "    [  5.9,  32.0, 40.0, 51.5, 70.0, 100.0, 78.0, 80.0, 85.0, 85.0,\n",
        "     110.0, 115.0, 125.0, 130.0, 120.0, 120.0, 130.0, 135.0, 110.0,\n",
        "     130.0, 150.0, 145.0, 150.0, 170.0, 225.0, 145.0, 188.0, 180.0,\n",
        "     197.0, 218.0, 300.0, 260.0, 265.0, 250.0, 250.0, 300.0, 320.0,\n",
        "     514.0, 556.0, 840.0, 685.0, 700.0, 700.0, 690.0, 900.0, 650.0,\n",
        "     820.0, 850.0, 900.0, 1015.0, 820.0, 1100.0, 1000.0, 1100.0,\n",
        "     1000.0, 1000.0]\n",
        ")\n",
        "\n",
        "import matplotlib.pyplot as plt\n",
        "\n",
        "plt.scatter(perch_length, perch_weight)\n",
        "plt.xlabel('length')\n",
        "plt.ylabel('weight')\n",
        "plt.show()"
      ],
      "execution_count": 1,
      "outputs": [
        {
          "output_type": "display_data",
          "data": {
            "image/png": "[encoded data removed]",
            "text/plain": [
              "<Figure size 432x288 with 1 Axes>"
            ]
          },
          "metadata": {
            "needs_background": "light"
          }
        }
      ]
    },
    {
      "cell_type": "code",
      "metadata": {
        "id": "Mii7NAUJekkR"
      },
      "source": [
        "# 훈련셋과 테스트셋으로 나누기\n",
        "from sklearn.model_selection import train_test_split\n",
        "train_input, test_input, train_target, test_target = train_test_split(perch_length, perch_weight, random_state=42)"
      ],
      "execution_count": 5,
      "outputs": []
    },
    {
      "cell_type": "markdown",
      "metadata": {
        "id": "iOo6X8bifsQ5"
      },
      "source": [
        "현재 데이터셋을 만든 perch 데이터가 모두 1차원이므로, 훈련셋과 테스트셋은 1차원 배열로 되어있다. 그러나 사이킷런에서 사용하는 배열은 2차원이므로, 이를 바꿔주어야 한다\n",
        "현재 모양은 [1, 2, 3]이고, 이 사이즈는 하나의 튜플, (3,)으로 나타낸다. 이를\n",
        "\n",
        "[[1],\n",
        "\n",
        " [2],\n",
        "\n",
        " [3]]\n",
        "\n",
        " 형태로 만들어야 하고, 이 사이즈는 (3, 1)로 나타낼 수 있다. 이렇게 바꿀 수 있는 쉬운 방법 중 하나는 reshape() 메서드를 사용하는 것이다. 예를 들면 다음과 같다"
      ]
    },
    {
      "cell_type": "code",
      "metadata": {
        "colab": {
          "base_uri": "https://localhost:8080/"
        },
        "id": "tnH1D5Crggjq",
        "outputId": "55e205f1-4ab7-449a-a5c3-8c960f5b41e6"
      },
      "source": [
        "test_array = np.array([1, 2, 3, 4])\n",
        "print(test_array.shape)"
      ],
      "execution_count": 2,
      "outputs": [
        {
          "output_type": "stream",
          "name": "stdout",
          "text": [
            "(4,)\n"
          ]
        }
      ]
    },
    {
      "cell_type": "code",
      "metadata": {
        "colab": {
          "base_uri": "https://localhost:8080/"
        },
        "id": "KcF-pVpKgoId",
        "outputId": "f9f88576-8d55-47f3-989c-d84449ff8188"
      },
      "source": [
        "test_array = test_array.reshape(2, 2)\n",
        "print(test_array.shape)"
      ],
      "execution_count": 3,
      "outputs": [
        {
          "output_type": "stream",
          "name": "stdout",
          "text": [
            "(2, 2)\n"
          ]
        }
      ]
    },
    {
      "cell_type": "code",
      "metadata": {
        "colab": {
          "base_uri": "https://localhost:8080/"
        },
        "id": "BjWqzwR5g7vX",
        "outputId": "8fe53eaa-36d5-4c78-cf4d-06e28a08a1c1"
      },
      "source": [
        "# 물론 4개짜리 1차원 배열을 (2, 3)으로 만들 수는 없다\n",
        "# 자리에 -1을 넣으면 알아서 자동으로 채우라는 말이다\n",
        "# ex) 8개짜리 1차원을 (4, -1) -> (4, 2)와 같다\n",
        "train_input = train_input.reshape(-1, 1)\n",
        "test_input = test_input.reshape(-1, 1)\n",
        "print(train_input.shape, test_input.shape)"
      ],
      "execution_count": 6,
      "outputs": [
        {
          "output_type": "stream",
          "name": "stdout",
          "text": [
            "(42, 1) (14, 1)\n"
          ]
        }
      ]
    },
    {
      "cell_type": "code",
      "metadata": {
        "colab": {
          "base_uri": "https://localhost:8080/"
        },
        "id": "Egj53-QAhu3h",
        "outputId": "b3370203-f9ff-469a-ee24-4b10c66c34c2"
      },
      "source": [
        "# k-최근접 이웃 회귀로 훈련\n",
        "from sklearn.neighbors import KNeighborsRegressor\n",
        "\n",
        "knr = KNeighborsRegressor()\n",
        "knr.fit(train_input, train_target)\n",
        "print(knr.score(test_input, test_target))"
      ],
      "execution_count": 8,
      "outputs": [
        {
          "output_type": "stream",
          "name": "stdout",
          "text": [
            "0.992809406101064\n"
          ]
        }
      ]
    },
    {
      "cell_type": "markdown",
      "metadata": {
        "id": "j9DAHQYriV6U"
      },
      "source": [
        "## 결정계수\n",
        "결정계수 또는 R^2라고 한다. 회귀에서 점수로 사용하는 값인데, 식은 다음과 같다\n",
        "$$R^2 = 1 - \\frac{Σ(target - prediction)^2}{Σ(target - standard)^2}$$\n",
        "\n",
        "따라서 타깃의 평균 정도를 예측한다면 R^2는 0에 가깝고, 타깃에 가까운 예측을 한다면 1에 가까운 숫자가 나온다\n",
        "\n",
        "R^2로 직관적인 정확도를 알기 어려우므로 타깃과 예측한 값의 오차를 구해보도록 하자"
      ]
    },
    {
      "cell_type": "code",
      "metadata": {
        "colab": {
          "base_uri": "https://localhost:8080/"
        },
        "id": "XGfpxvb8j4my",
        "outputId": "bcfbb028-5764-40bd-a42c-e5f2fbe848de"
      },
      "source": [
        "from sklearn.metrics import mean_absolute_error\n",
        "\n",
        "test_prediction = knr.predict(test_input)\n",
        "mae = mean_absolute_error(test_target, test_prediction)\n",
        "print(mae)"
      ],
      "execution_count": 9,
      "outputs": [
        {
          "output_type": "stream",
          "name": "stdout",
          "text": [
            "19.157142857142862\n"
          ]
        }
      ]
    },
    {
      "cell_type": "code",
      "metadata": {
        "colab": {
          "base_uri": "https://localhost:8080/"
        },
        "id": "eIm9z-KvkVij",
        "outputId": "abddbbb2-eb38-42ef-e6dc-109913bae18f"
      },
      "source": [
        "print(knr.score(test_input, test_target))"
      ],
      "execution_count": 10,
      "outputs": [
        {
          "output_type": "stream",
          "name": "stdout",
          "text": [
            "0.992809406101064\n"
          ]
        }
      ]
    },
    {
      "cell_type": "code",
      "metadata": {
        "colab": {
          "base_uri": "https://localhost:8080/"
        },
        "id": "2q-i-pcEkZPD",
        "outputId": "25ec87c0-33bb-4fc6-ceae-1bb83f15f5b7"
      },
      "source": [
        "print(knr.score(train_input, train_target))"
      ],
      "execution_count": 11,
      "outputs": [
        {
          "output_type": "stream",
          "name": "stdout",
          "text": [
            "0.9699779067036656\n"
          ]
        }
      ]
    },
    {
      "cell_type": "code",
      "metadata": {
        "colab": {
          "base_uri": "https://localhost:8080/"
        },
        "id": "gTiZzuY6kfvL",
        "outputId": "fb1e532d-ab36-4034-d88b-f369f922c3cd"
      },
      "source": [
        "knr.n_neighbors = 3\n",
        "\n",
        "knr.fit(train_input, train_target)\n",
        "print(knr.score(train_input, train_target))"
      ],
      "execution_count": 12,
      "outputs": [
        {
          "output_type": "stream",
          "name": "stdout",
          "text": [
            "0.9822918760601117\n"
          ]
        }
      ]
    },
    {
      "cell_type": "code",
      "metadata": {
        "colab": {
          "base_uri": "https://localhost:8080/"
        },
        "id": "QyUCFrZgp0CO",
        "outputId": "07887e36-c0da-43f4-dd54-cbe85d15c061"
      },
      "source": [
        "print(knr.score(test_input, test_target))"
      ],
      "execution_count": 13,
      "outputs": [
        {
          "output_type": "stream",
          "name": "stdout",
          "text": [
            "0.9746459963987609\n"
          ]
        }
      ]
    },
    {
      "cell_type": "markdown",
      "metadata": {
        "id": "41ZJHLlhp8aj"
      },
      "source": [
        "## 과대 적합 vs 과소 적합\n",
        "훈련셋 점수 > 테스트셋 점수이면 **과대적합(overfitting)**이라 하고, 훈련셋 점수 < 테스트셋 점수이거나 두 점수 모두 낮으면 **과소적합(underfitting)**이라 한다. 위 결과를 보면 훈련 점수가 더 낮은데, 이는 언더피팅을 의미하므로 모델을 조금 더 복잡하게 할 필요가 있다. 여기서 모델을 복잡하게 하는 것은 이웃의 개수 k를 줄이는 것이다. k를 줄일 수록 국지적인 패턴에 민감해지고, 늘릴 수록 일반적인 패턴을 따르기 때문이다. 따라서 k를 기본 5에서 3으로 줄임으로써 언더피팅을 해결했다고 볼 수 있다"
      ]
    }
  ]
}
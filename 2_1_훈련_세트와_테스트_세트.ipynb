{
  "nbformat": 4,
  "nbformat_minor": 0,
  "metadata": {
    "colab": {
      "name": "2-1-훈련_세트와_테스트_세트.ipynb",
      "provenance": [],
      "collapsed_sections": [],
      "authorship_tag": "ABX9TyPqY8Lc5+03Pw/IXOO1xSiQ"
    },
    "kernelspec": {
      "name": "python3",
      "display_name": "Python 3"
    },
    "language_info": {
      "name": "python"
    }
  },
  "cells": [
    {
      "cell_type": "markdown",
      "metadata": {
        "id": "3Aq_pYZqVHpT"
      },
      "source": [
        "## 지도 학습과 비지도 학습\n",
        "지도 학습에서는 데이터와 정답을 입력(input)와 타깃(target)이라 부르고, 이 둘을 합쳐 훈련 데이터(training data)라고 한다\n",
        "\n",
        "## 훈련 셋과 테스트셋\n",
        "평가에 사용하는 데이터: 테스트셋\n",
        "훈련에 사용하는 데이터: 훈련셋"
      ]
    },
    {
      "cell_type": "code",
      "metadata": {
        "colab": {
          "base_uri": "https://localhost:8080/"
        },
        "id": "ZIPSpTVIUa5l",
        "outputId": "96a08236-375f-468a-c055-388d46025bc2"
      },
      "source": [
        "fish_length = [25.4, 26.3, 26.5, 29.0, 29.0, 29.7, 29.7, 30.0, 30.0, 30.7,\n",
        "               31.0, 31.0, 31.5, 32.0, 32.0, 32.0, 33.0, 33.0, 33.5, 33.5,\n",
        "               34.0, 34.0, 34.5, 35.0, 35.0, 35.0, 35.0, 36.0, 36.0, 37.0,\n",
        "               38.5, 38.5, 39.5, 41.0, 41.0,  9.8, 10.5, 10.6, 11.0, 11.2, \n",
        "               11.3, 11.8, 11.8, 12.0, 12.2, 12.4, 13.0, 14.3, 15.0,]\n",
        "\n",
        "fish_weight = [242.0, 290.0, 340.0, 363.0, 430.0, 450.0,  500.0, 390.0,\n",
        "               450.0, 500.0, 475.0, 500.0, 500.0, 340.0,  600.0, 600.0,\n",
        "               700.0, 700.0, 610.0, 650.0, 575.0, 685.0,  620.0, 680.0,\n",
        "               700.0, 725.0, 720.0, 714.0, 850.0, 1000.0, 920.0, 955.0,\n",
        "               925.0, 975.0, 950.0,   6.7,   7.5,    7.0,   9.7,   9.8,\n",
        "                 8.7,  10.0,   9.9,   9.8,  12.2,   13.4,  12.2,  19.7,\n",
        "               19.9]\n",
        "\n",
        "fish_data = [[l, w] for l, w in zip(fish_length, fish_weight)]\n",
        "fish_target = [1] * 35 + [0] * 14\n",
        "\n",
        "# 이때 하나의 생선 데이터를 샘플(sample)이라고 한다. 이 데이터의 처음 35개를 훈련셋,\n",
        "# 나머지 14개를 테스트셋으로 사용하자\n",
        "\n",
        "from sklearn.neighbors import KNeighborsClassifier\n",
        "kn = KNeighborsClassifier()\n",
        "\n",
        "# 슬라이싱을 이용하여 훈련셋과 테스트셋으로 나누자\n",
        "train_input = fish_data[:35]\n",
        "train_target = fish_target[:35]\n",
        "test_input = fish_data[35:]\n",
        "test_target = fish_target[35:]\n",
        "\n",
        "# 훈련 평가\n",
        "kn = kn.fit(train_input, train_target)\n",
        "kn.score(test_input, test_target)"
      ],
      "execution_count": null,
      "outputs": [
        {
          "output_type": "execute_result",
          "data": {
            "text/plain": [
              "0.0"
            ]
          },
          "metadata": {},
          "execution_count": 2
        }
      ]
    },
    {
      "cell_type": "markdown",
      "metadata": {
        "id": "B0NtaubocU3v"
      },
      "source": [
        "## 샘플링 편향\n",
        "\n",
        "위와 같이 데이터를 나누면 훈련은 도미 데이터로만 하고, 테스트는 빙어 데이터로만 함으로써 정답을 맞추는 것이 말이 안되는 상황이다. 위 처럼 훈련셋과 테스트셋이 골고루 섞여있지 않은 것을 **샘플링 편향(sampling bias)**이라 한다\n",
        "\n",
        "## 넘파이\n",
        "넘파이로 데이터를 섞거나 골고루 샘플을 뽑아 훈련셋과 테스트셋을 보다 쉽게 만들 수 있다\n",
        "\n",
        "또한 고차원 리스트를 쉽게 만들거나 조작할 수 있다"
      ]
    },
    {
      "cell_type": "code",
      "metadata": {
        "colab": {
          "base_uri": "https://localhost:8080/"
        },
        "id": "PvQpSBt1d2dU",
        "outputId": "ecb5471d-33c9-416e-8d4b-1150b4581107"
      },
      "source": [
        "import numpy as np\n",
        "\n",
        "# 리스트를 넘파이로 바꾸기\n",
        "input_arr = np.array(fish_data)\n",
        "target_arr = np.array(fish_target)\n",
        "\n",
        "print(input_arr)"
      ],
      "execution_count": null,
      "outputs": [
        {
          "output_type": "stream",
          "name": "stdout",
          "text": [
            "[[  25.4  242. ]\n",
            " [  26.3  290. ]\n",
            " [  26.5  340. ]\n",
            " [  29.   363. ]\n",
            " [  29.   430. ]\n",
            " [  29.7  450. ]\n",
            " [  29.7  500. ]\n",
            " [  30.   390. ]\n",
            " [  30.   450. ]\n",
            " [  30.7  500. ]\n",
            " [  31.   475. ]\n",
            " [  31.   500. ]\n",
            " [  31.5  500. ]\n",
            " [  32.   340. ]\n",
            " [  32.   600. ]\n",
            " [  32.   600. ]\n",
            " [  33.   700. ]\n",
            " [  33.   700. ]\n",
            " [  33.5  610. ]\n",
            " [  33.5  650. ]\n",
            " [  34.   575. ]\n",
            " [  34.   685. ]\n",
            " [  34.5  620. ]\n",
            " [  35.   680. ]\n",
            " [  35.   700. ]\n",
            " [  35.   725. ]\n",
            " [  35.   720. ]\n",
            " [  36.   714. ]\n",
            " [  36.   850. ]\n",
            " [  37.  1000. ]\n",
            " [  38.5  920. ]\n",
            " [  38.5  955. ]\n",
            " [  39.5  925. ]\n",
            " [  41.   975. ]\n",
            " [  41.   950. ]\n",
            " [   9.8    6.7]\n",
            " [  10.5    7.5]\n",
            " [  10.6    7. ]\n",
            " [  11.     9.7]\n",
            " [  11.2    9.8]\n",
            " [  11.3    8.7]\n",
            " [  11.8   10. ]\n",
            " [  11.8    9.9]\n",
            " [  12.     9.8]\n",
            " [  12.2   12.2]\n",
            " [  12.4   13.4]\n",
            " [  13.    12.2]\n",
            " [  14.3   19.7]\n",
            " [  15.    19.9]]\n"
          ]
        }
      ]
    },
    {
      "cell_type": "code",
      "metadata": {
        "colab": {
          "base_uri": "https://localhost:8080/"
        },
        "id": "Fp6ltMKAeFeb",
        "outputId": "5ac8de21-bae8-4620-c483-379e797743ad"
      },
      "source": [
        "# shape를 쓰면 샘플 수와 특성의 수를 알 수 있다\n",
        "print(input_arr.shape)"
      ],
      "execution_count": null,
      "outputs": [
        {
          "output_type": "stream",
          "name": "stdout",
          "text": [
            "(49, 2)\n"
          ]
        }
      ]
    },
    {
      "cell_type": "code",
      "metadata": {
        "colab": {
          "base_uri": "https://localhost:8080/"
        },
        "id": "sCHJt2XbeO80",
        "outputId": "3cbc9c6c-78d0-4cf5-fb29-11394f536165"
      },
      "source": [
        "np.random.seed(42)\n",
        "# arrange를 사용하면 0부터 N까지의 리스트를 간단히 만들 수 있다\n",
        "index = np.arange(49)\n",
        "np.random.shuffle(index)\n",
        "print(index)"
      ],
      "execution_count": null,
      "outputs": [
        {
          "output_type": "stream",
          "name": "stdout",
          "text": [
            "[13 45 47 44 17 27 26 25 31 19 12  4 34  8  3  6 40 41 46 15  9 16 24 33\n",
            " 30  0 43 32  5 29 11 36  1 21  2 37 35 23 39 10 22 18 48 20  7 42 14 28\n",
            " 38]\n"
          ]
        }
      ]
    },
    {
      "cell_type": "code",
      "metadata": {
        "id": "AxUmSbqpfXeG"
      },
      "source": [
        ""
      ],
      "execution_count": null,
      "outputs": []
    }
  ]
}
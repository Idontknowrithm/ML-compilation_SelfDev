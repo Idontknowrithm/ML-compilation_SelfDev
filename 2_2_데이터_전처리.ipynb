{
  "nbformat": 4,
  "nbformat_minor": 0,
  "metadata": {
    "colab": {
      "name": "2-2-데이터_전처리.ipynb",
      "provenance": [],
      "collapsed_sections": [],
      "authorship_tag": "ABX9TyNjU9gKKb2qdp5dpmErdhEr"
    },
    "kernelspec": {
      "name": "python3",
      "display_name": "Python 3"
    },
    "language_info": {
      "name": "python"
    }
  },
  "cells": [
    {
      "cell_type": "markdown",
      "metadata": {
        "id": "IHNxNUd8iTj_"
      },
      "source": [
        "## 넘파이로 데이터 준비하기 "
      ]
    },
    {
      "cell_type": "code",
      "metadata": {
        "id": "xCEvDlEnhnd3"
      },
      "source": [
        "fish_length = [25.4, 26.3, 26.5, 29.0, 29.0, 29.7, 29.7, 30.0, 30.0, 30.7,\n",
        "               31.0, 31.0, 31.5, 32.0, 32.0, 32.0, 33.0, 33.0, 33.5, 33.5,\n",
        "               34.0, 34.0, 34.5, 35.0, 35.0, 35.0, 35.0, 36.0, 36.0, 37.0,\n",
        "               38.5, 38.5, 39.5, 41.0, 41.0,  9.8, 10.5, 10.6, 11.0, 11.2, \n",
        "               11.3, 11.8, 11.8, 12.0, 12.2, 12.4, 13.0, 14.3, 15.0,]\n",
        "\n",
        "fish_weight = [242.0, 290.0, 340.0, 363.0, 430.0, 450.0,  500.0, 390.0,\n",
        "               450.0, 500.0, 475.0, 500.0, 500.0, 340.0,  600.0, 600.0,\n",
        "               700.0, 700.0, 610.0, 650.0, 575.0, 685.0,  620.0, 680.0,\n",
        "               700.0, 725.0, 720.0, 714.0, 850.0, 1000.0, 920.0, 955.0,\n",
        "               925.0, 975.0, 950.0,   6.7,   7.5,    7.0,   9.7,   9.8,\n",
        "                 8.7,  10.0,   9.9,   9.8,  12.2,   13.4,  12.2,  19.7,\n",
        "               19.9]"
      ],
      "execution_count": 1,
      "outputs": []
    },
    {
      "cell_type": "markdown",
      "metadata": {
        "id": "hvc_-h8sRcdh"
      },
      "source": [
        "넘파이로 데이터를 조작하자. 넘파이의 column_stack() 함수는 전달받은 리스트를 일렬로 세운 후 열 단위로 연결한다"
      ]
    },
    {
      "cell_type": "code",
      "metadata": {
        "colab": {
          "base_uri": "https://localhost:8080/"
        },
        "id": "I6ZW_8YgRtjt",
        "outputId": "1f421ed2-5135-415d-9e29-236b4cfedd26"
      },
      "source": [
        "import numpy as np\n",
        "\n",
        "fish_data = np.column_stack((fish_length, fish_weight))\n",
        "# 확인 출력\n",
        "print(fish_data[:5])"
      ],
      "execution_count": 2,
      "outputs": [
        {
          "output_type": "stream",
          "name": "stdout",
          "text": [
            "[[ 25.4 242. ]\n",
            " [ 26.3 290. ]\n",
            " [ 26.5 340. ]\n",
            " [ 29.  363. ]\n",
            " [ 29.  430. ]]\n"
          ]
        }
      ]
    },
    {
      "cell_type": "code",
      "metadata": {
        "colab": {
          "base_uri": "https://localhost:8080/"
        },
        "id": "2tcP3w1_R8iz",
        "outputId": "ddd7a155-245f-46be-dcc2-9a2dcc53c398"
      },
      "source": [
        "# 넘파이로 타깃 데이터 만들기\n",
        "# ones(), zeros()로 1과 0으로 채워진 배열을 만들고, concatenate()로\n",
        "# 붙여 타깃 데이터를 만들자\n",
        "\n",
        "fish_target = np.concatenate((np.ones(35), np.zeros(14)))\n",
        "print(fish_target)"
      ],
      "execution_count": 3,
      "outputs": [
        {
          "output_type": "stream",
          "name": "stdout",
          "text": [
            "[1. 1. 1. 1. 1. 1. 1. 1. 1. 1. 1. 1. 1. 1. 1. 1. 1. 1. 1. 1. 1. 1. 1. 1.\n",
            " 1. 1. 1. 1. 1. 1. 1. 1. 1. 1. 1. 0. 0. 0. 0. 0. 0. 0. 0. 0. 0. 0. 0. 0.\n",
            " 0.]\n"
          ]
        }
      ]
    },
    {
      "cell_type": "markdown",
      "metadata": {
        "id": "OwVj54YPSjO-"
      },
      "source": [
        "## 사이킷런으로 훈련셋과 테스트셋 나누기\n",
        "사이킷런의 model_section 모듈 아래 있는 train_test_split() 함수는 전달되는 배열을 비율에 맞게(기본 테스트 비율 25%) 데이터를 나눠주고, 나눠주기 전 알아서 랜덤으로 섞어준다. 이때 랜덤 시드를 결정할 수 있는데, random_state 매개변수를 조절하면 된다\n",
        "\n",
        "또한 일반적으로 랜덤 배정을 했을 때 도미와 빙어의 비율대로 섞이지 않는 문제가 생길 수 있는데, 이는 stratify 매개변수에 타깃 데이터를 전달함으로써 해결할 수 있다"
      ]
    },
    {
      "cell_type": "code",
      "metadata": {
        "colab": {
          "base_uri": "https://localhost:8080/"
        },
        "id": "SY7mXETgTnPr",
        "outputId": "63ab94ac-eeaf-4bf4-e1e0-5b000a915d87"
      },
      "source": [
        "from sklearn.model_selection import train_test_split\n",
        "\n",
        "train_input, test_input, train_target, test_target = train_test_split(fish_data, fish_target, stratify=fish_target, random_state=42)\n",
        "# 확인\n",
        "print(test_target)"
      ],
      "execution_count": 4,
      "outputs": [
        {
          "output_type": "stream",
          "name": "stdout",
          "text": [
            "[0. 0. 1. 0. 1. 0. 1. 1. 1. 1. 1. 1. 1.]\n"
          ]
        }
      ]
    },
    {
      "cell_type": "code",
      "metadata": {
        "colab": {
          "base_uri": "https://localhost:8080/"
        },
        "id": "gXnXbgsiUGEr",
        "outputId": "dbe9e0bf-0352-47d1-a9f7-63639c0599b0"
      },
      "source": [
        "# k-최근접 이웃 알고리즘\n",
        "from sklearn.neighbors import KNeighborsClassifier\n",
        "kn = KNeighborsClassifier()\n",
        "kn.fit(train_input, train_target)\n",
        "print(kn.score(test_input, test_target))"
      ],
      "execution_count": 5,
      "outputs": [
        {
          "output_type": "stream",
          "name": "stdout",
          "text": [
            "1.0\n"
          ]
        }
      ]
    },
    {
      "cell_type": "code",
      "metadata": {
        "colab": {
          "base_uri": "https://localhost:8080/"
        },
        "id": "mC_J8gc_UdgD",
        "outputId": "cb134a08-e9ef-4e8c-87b0-5a99621f66be"
      },
      "source": [
        "# 도미로 예측하는 새 데이터는?\n",
        "print(kn.predict([[25, 150]]))"
      ],
      "execution_count": 6,
      "outputs": [
        {
          "output_type": "stream",
          "name": "stdout",
          "text": [
            "[0.]\n"
          ]
        }
      ]
    },
    {
      "cell_type": "code",
      "metadata": {
        "colab": {
          "base_uri": "https://localhost:8080/",
          "height": 279
        },
        "id": "v2Vy46ezUon7",
        "outputId": "80ce8341-dd2b-44a6-dd6a-adc7d249ce86"
      },
      "source": [
        "import matplotlib.pyplot as plt\n",
        "\n",
        "plt.scatter(train_input[:, 0], train_input[:, 1])\n",
        "plt.scatter(25, 150, marker='^')\n",
        "plt.xlabel('length')\n",
        "plt.ylabel('weight')\n",
        "plt.show()"
      ],
      "execution_count": 7,
      "outputs": [
        {
          "output_type": "display_data",
          "data": {
            "image/png": "[encoded data removed]",
            "text/plain": [
              "<Figure size 432x288 with 1 Axes>"
            ]
          },
          "metadata": {
            "needs_background": "light"
          }
        }
      ]
    },
    {
      "cell_type": "code",
      "metadata": {
        "colab": {
          "base_uri": "https://localhost:8080/",
          "height": 279
        },
        "id": "Rc7i0ZIhVDG_",
        "outputId": "d7b635db-be9e-4dd6-85c3-51414c774fb9"
      },
      "source": [
        "distances, indexes = kn.kneighbors([[25, 150]])\n",
        "\n",
        "plt.scatter(train_input[:, 0], train_input[:, 1])\n",
        "plt.scatter(25, 150, marker='^')\n",
        "plt.scatter(train_input[indexes, 0], train_input[indexes, 1], marker='D')\n",
        "plt.xlabel('length')\n",
        "plt.ylabel('weight')\n",
        "plt.show()"
      ],
      "execution_count": 8,
      "outputs": [
        {
          "output_type": "display_data",
          "data": {
            "image/png": "[encoded data removed]",
            "text/plain": [
              "<Figure size 432x288 with 1 Axes>"
            ]
          },
          "metadata": {
            "needs_background": "light"
          }
        }
      ]
    },
    {
      "cell_type": "markdown",
      "metadata": {
        "id": "4A42TXa1gcK_"
      },
      "source": [
        "## 기준을 맞춰라\n",
        "위 그래프를 언뜻 보면 이상하지만 그래프의 단위를 봐야함. y축의 weight 값이 length 값보다 많이 압축되어있기때문에 보기에는 빙어 데이터가 멀어보이지만 실제로는 빙어 데이터가 도미 데이터보다 더 가까이 있음. 이런 상황을 **스케일(scale)**이 다르다고 한다. 따라서 이러한 문제를 해결하기 위해 특성값을 일정한 기준으로 맞추는 **데이터 전처리(data preprocessing)**를 해주어야 한다\n",
        "\n",
        "가장 널리 사용되는 전처리 방법 중 하나로 **표준 점수(standard score, or Z)**가 있다. 표준점수는 평균을 빼고 표준편차로 나누어서 구할 수 있다"
      ]
    },
    {
      "cell_type": "code",
      "metadata": {
        "colab": {
          "base_uri": "https://localhost:8080/"
        },
        "id": "8eIejk4ahjq1",
        "outputId": "c01383aa-5530-49a8-c827-fddd6e0cda74"
      },
      "source": [
        "# axis를 0으로 지정하면 행을 따라 각 열의 통계값을 계산\n",
        "# -> 각 특성별로 평균과 표준편차를 계산\n",
        "\n",
        "# mean(): 평균을 계산한다\n",
        "mean = np.mean(train_input, axis=0)\n",
        "\n",
        "# std(): 표준편차를 계산한다\n",
        "std = np.std(train_input, axis=0)\n",
        "\n",
        "print(mean, std)"
      ],
      "execution_count": 9,
      "outputs": [
        {
          "output_type": "stream",
          "name": "stdout",
          "text": [
            "[ 27.29722222 454.09722222] [  9.98244253 323.29893931]\n"
          ]
        }
      ]
    },
    {
      "cell_type": "code",
      "metadata": {
        "colab": {
          "base_uri": "https://localhost:8080/",
          "height": 279
        },
        "id": "S1oTgzu5iMtN",
        "outputId": "159874f7-a4a7-4c66-f510-27e7e350f50c"
      },
      "source": [
        "# 원본 데이터에서 평균을 빼고 표준편차로 나누기\n",
        "train_scaled = (train_input - mean) / std\n",
        "\n",
        "# 넘파이의 broadcasting 기능으로 train_input의 모든 행에서\n",
        "# mean에 있는 두 평균값을 빼주고 std에 있는 두 표준편차를 모든 행에 적용해준다\n",
        "\n",
        "plt.scatter(train_scaled[:, 0], train_scaled[:, 1])\n",
        "plt.scatter(25, 150, marker='^')\n",
        "plt.xlabel('length')\n",
        "plt.ylabel('weight')\n",
        "plt.show()"
      ],
      "execution_count": 11,
      "outputs": [
        {
          "output_type": "display_data",
          "data": {
            "image/png": "[encoded data removed]",
            "text/plain": [
              "<Figure size 432x288 with 1 Axes>"
            ]
          },
          "metadata": {
            "needs_background": "light"
          }
        }
      ]
    },
    {
      "cell_type": "markdown",
      "metadata": {
        "id": "nhyE_MMyjJuM"
      },
      "source": [
        "## 전처리 데이터로 모델 훈련하기"
      ]
    }
  ]
}
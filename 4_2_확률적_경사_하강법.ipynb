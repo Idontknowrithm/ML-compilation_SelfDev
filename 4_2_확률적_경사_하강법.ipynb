{
  "nbformat": 4,
  "nbformat_minor": 0,
  "metadata": {
    "colab": {
      "name": "4-2-확률적_경사_하강법.ipynb",
      "provenance": [],
      "collapsed_sections": [],
      "authorship_tag": "ABX9TyODzIVPZMHmqepTcGLVCXFB"
    },
    "kernelspec": {
      "name": "python3",
      "display_name": "Python 3"
    },
    "language_info": {
      "name": "python"
    }
  },
  "cells": [
    {
      "cell_type": "markdown",
      "metadata": {
        "id": "PBjca8mjF0fr"
      },
      "source": [
        "## 점진적인 학습\n",
        "만약 훈련 데이터가 한 번에 준비되는 것이 아니라 조금씩 전달된다고 할 때, 어떤 데이터를 소실시키지 않고 새로운 데이터에 대해서만 조금씩 더 훈련하는 방식을 **점진적 학습(incremental learning)** 혹은 온라인 학습이라 한다. 대표적인 점진적 학습 알고리즘으로 **확률적 경사 하강법(Stochastic Gradient Descent)**이 있다\n",
        "\n",
        "### 확률적 경사 하강법\n",
        "언덕에서 공을 굴린다고 생각해봤을 때, 가장 빠르게 내려오는 방법은 가장 가파른 지형을 따라 내려오는 것이다. 확률적 경사 하강법(SGD)은 이런 식으로, 가장 가파른 경사를 따라 목표 지점에 도달하는 것이다. 이때 주의해야할 점은 한 번에 긴 거리를 가게 된다면 목표 지점인 부분을 넘어 다시 위로 올라갈 수 있다(가속도가 있다면 한 번에 멈추기 어려운 점을 떠올리자). 따라서 경사를 내려올 때는 가파른 경사를 따라 조금씩 내려오는 것이 중요하고, 이렇게 내려오는 과정이 SGD 모델을 훈련하는 과정이다\n",
        "\n",
        "SGD에서 확률적이라는 의미는, 경사 하강법을 통해 가장 가파른 길을 찾을 때 전체 샘플을 사용하지 않고 딱 하나의 샘플을 훈련셋에서 랜덤하게 골라 가장 가파른 길을 찾는다는 것이다. 훈련셋에서 랜덤하게 하나의 샘플을 선택해 가파른 경사를 조금 내려가고, 이런 식으로 해서 전체 샘플을 모두 사용한다. 이때 목표 지점에 도달하지 못했다면? 다시 훈련셋을 모두 사용해서 전에 했던 훈련을 반복하는데, 여기서 훈련셋을 한 번 모두 사용하는 과정을 **에폭(epoch)**이라고 부른다\n",
        "\n",
        "SGD에서처럼 하나씩 훈련셋에서 뽑아 훈련하지 않고, 몇 개의 샘플을 동시에 사용해서 경사 하강법을 수행하면 **미니배치 경사 하강법(minibatch gradient descent)**이라 하고, 전체 샘플을 사용하면 **배치 경사 하강법(batch gradient descent)**이라 한다\n",
        "\n",
        "### 손실 함수\n",
        "빠르게 내려오려고하는 언덕 자체를 손실 함수라 할 수 있다. **손실함수(loss function)**는 어떤 문제에서 머신러닝 알고리즘의 예측 실패 정도를 측정하는 기준이다. 손실 함수의 최소값은 없으나 손실 함수의 값이 작을 수록 좋다\n",
        "\n",
        "분류에서의 손실은 오답을 예측하는 것이다. 한 훈련셋에 대한 예측이 다음과 같다면\n",
        "1. 예측: 1, 정답: 1\n",
        "2. 예측: 0, 정답: 1\n",
        "3. 예측: 0, 정답: 0\n",
        "4. 예측: 1, 정답: 0\n",
        "\n",
        "정확도는 2/4 = 0.5다. 만약 정확도에 음수를 취한 값을 손실 함수로 잡는다면, -1이 가장 낮고, -0이 가장 높은 손실 함수가 될 수 있다. 그러나 여기에서 문제는 정확도는 미분 불가능하다는 점이다. 앞에서처럼 4개의 샘플이 있다면 가능한 손실 함수의 값은 0, 0.25, 0.5, 0.75, 1로 5개밖에 없다. 경사 하강법에서 아주 조금씩 내려오는 것을 구현하려면 손실 함수는 미분 가능해야한다. 이렇게 연속적이고 미분 가능한 손실 함수를 만들기 위해서 로지스틱 손실함수를 사용할 수 있다.\n",
        "\n",
        "### 로지스틱 손실 함수\n",
        "위의 샘플 4개의 예측 성공 확률을 0.9, 0.3, 0.2, 0.8이라 하자. \n",
        "\n",
        "첫 번째 샘플 예측은 0.9이고, 정답이 양성 클래스(1)므로 -(1 * 0.9) = -0.9가 손실 함수가 된다. \n",
        "\n",
        "두 번째 샘플 예측은 0.3이고, 정답이 양성 클래스이므로 -(1 * 0.3) = -0.3이 손실 함수가 된다. \n",
        "\n",
        "세 번째 샘플 예측은 0.2인데, 정답이 음성 클래스이므로 그대로 0 * 0.2가 되면 무조건 0이 되므로 타깃을 양성 클래스로 바꾸고, 예측값도 양성 클래스에 대한 예측으로 바꾼다. 즉 1 - 0.2 = 0.8로 만들고, 이를 손실함수로 바꾸면 -(1 * 0.8) = -0.8이 손실 함수가 된다.\n",
        "\n",
        "네 번째 샘플 예측은 0.8이고, 타깃이 음성 클래스이므로 세 번째 샘플과 동일한 방법을 취한다. 따라서 -(1 * 0.2) = -0.2가 손실 함수가 된다\n",
        "\n",
        "이 예측 확률에 로그 함수를 적용하면 더 좋다. 예측 확률 범위는 0 ~ 1인데, 이 예측 확률 범위의 값에 로그를 취하면 음수가 된다. 이렇게 되면 최종 손실 함수는 양수가 되므로 손실에 대해 이해하기 쉽고, 또한 로그 함수는 0에 가까울 수록 매우 큰 음수가 되므로 손실을 극대화하여 모델에 큰 영향을 미칠 수 있다\n",
        "\n",
        "정리하면 타깃이 양성 클래스일 때 (타깃이 1일 때) 손실은 -log(예측 확률)이 되고, 음성 클래스일 때 손실은 -log(1 - 예측 확률)로 계산이 된다. 이 손실 함수를 **로지스틱 손실 함수(logistic loss function)** 또는 **이진 크로스엔트로피 손실 함수(binary cross-entrophy loss function)**이라 한다. 다중 분류에서의 손실 함수는**크로스엔트로피 손실 함수(cross-entrophy loss function)**라고 한다\n",
        "\n",
        "분류가 아닌 회귀에서의 손실 함수는 보통 타깃에서 예측을 뺀 절댓값을 모든 샘플에 평균한 값인 평균 절댓값 오차를 사용하거나, 타깃에서 예측을 뺀 값을 제곱한 다음 모든 샘플에 평균한 값인 **평균 제곱 오차(mean squared error)**를 많이 사용한다\n",
        "\n",
        "## SGDClassifier\n",
        "아래에서 확률적 경사 하강법을 구현해보자"
      ]
    },
    {
      "cell_type": "code",
      "metadata": {
        "colab": {
          "base_uri": "https://localhost:8080/"
        },
        "id": "SOkd2TusFH9j",
        "outputId": "94babf8a-773e-4b4f-f42b-25d1cc1f521f"
      },
      "source": [
        "import pandas as pd\n",
        "\n",
        "fish = pd.read_csv('https://bit.ly/fish_csv_data')\n",
        "\n",
        "# Species 열을 제외한 나머지 5개는 입력 데이터로 사용, Species 열은 타깃 데이터\n",
        "fish_input = fish[['Weight', 'Length', 'Diagonal', 'Height', 'Width']].to_numpy()\n",
        "fish_target = fish['Species'].to_numpy()\n",
        "\n",
        "# 데이터 훈련셋, 테스트셋으로 나누기\n",
        "from sklearn.model_selection import train_test_split\n",
        "\n",
        "train_input, test_input, train_target, test_target = train_test_split(\n",
        "    fish_input, fish_target, random_state=42\n",
        ")\n",
        "\n",
        "# 훈련셋, 테스트셋 특성을 표준화 전처리\n",
        "from sklearn.preprocessing import StandardScaler\n",
        "\n",
        "ss = StandardScaler()\n",
        "ss.fit(train_input)\n",
        "train_scaled = ss.transform(train_input)\n",
        "test_scaled = ss.transform(test_input)\n",
        "\n",
        "# SGD\n",
        "from sklearn.linear_model import SGDClassifier\n",
        "\n",
        "# loss='log': 로지스틱 손실함수 지정, max_iter: 에폭 횟수 지정\n",
        "sc = SGDClassifier(loss='log', max_iter=10, random_state=42)\n",
        "sc.fit(train_scaled, train_target)\n",
        "print(sc.score(train_scaled, train_target))\n",
        "print(sc.score(test_scaled, test_target))"
      ],
      "execution_count": 4,
      "outputs": [
        {
          "output_type": "stream",
          "name": "stdout",
          "text": [
            "0.773109243697479\n",
            "0.775\n"
          ]
        },
        {
          "output_type": "stream",
          "name": "stderr",
          "text": [
            "/usr/local/lib/python3.7/dist-packages/sklearn/linear_model/_stochastic_gradient.py:700: ConvergenceWarning: Maximum number of iteration reached before convergence. Consider increasing max_iter to improve the fit.\n",
            "  ConvergenceWarning,\n"
          ]
        }
      ]
    },
    {
      "cell_type": "code",
      "metadata": {
        "colab": {
          "base_uri": "https://localhost:8080/"
        },
        "id": "gljnqcjQUGPw",
        "outputId": "9227f457-b108-42ec-80a9-ebe431640c0c"
      },
      "source": [
        "# partial_fit으로 모델 이어서 훈련 가능\n",
        "sc.partial_fit(train_scaled, train_target)\n",
        "print(sc.score(train_scaled, train_target))\n",
        "print(sc.score(test_scaled, test_target))"
      ],
      "execution_count": 5,
      "outputs": [
        {
          "output_type": "stream",
          "name": "stdout",
          "text": [
            "0.8151260504201681\n",
            "0.825\n"
          ]
        }
      ]
    },
    {
      "cell_type": "markdown",
      "metadata": {
        "id": "zfmOeBa-UcWE"
      },
      "source": [
        "## 에폭과 오버/언더피팅\n",
        "에폭이 적으면 모델이 훈련셋을 덜 학습할 수 있다. 에폭 횟수가 적절히 많아야 훈련셋을 완전히 학습할 수 있다. 즉 적은 에폭 횟수 동안에 훈련한 모델은 언더피팅일 가능성이 높고, 많은 에폭 횟수 동안에는 테스트셋에는 점수가 떨어지는 오버피팅일 가능성이 높다. 에폭이 진행될 수록 훈련셋의 점수는 꾸준히 증가하고, 테스트셋의 점수는 어느 순간 감소하기 시작하는데, 이 시점이 모델이 오버피팅되기 시작하는 곳이고 이것이 시작되기 전에 훈련을 멈추는 것을 **조기 종료(early stopping)**라 한다. 이에 관련된 그래프를 그려보자"
      ]
    },
    {
      "cell_type": "code",
      "metadata": {
        "colab": {
          "base_uri": "https://localhost:8080/",
          "height": 279
        },
        "id": "tTyTM2mLUPWo",
        "outputId": "c067d012-52c2-4b4c-9e84-2847e0987824"
      },
      "source": [
        "import numpy as np\n",
        "\n",
        "sc = SGDClassifier(loss='log', random_state=42)\n",
        "train_score = []\n",
        "test_score = []\n",
        "classes = np.unique(train_target)\n",
        "\n",
        "# 300번 에폭 반복\n",
        "for _ in range(0, 300):\n",
        "    sc.partial_fit(train_scaled, train_target, classes=classes)\n",
        "    train_score.append(sc.score(train_scaled, train_target))\n",
        "    test_score.append(sc.score(test_scaled, test_target))\n",
        "\n",
        "import matplotlib.pyplot as plt\n",
        "\n",
        "plt.plot(train_score)\n",
        "plt.plot(test_score)\n",
        "plt.xlabel('epoch')\n",
        "plt.ylabel('accuracy')\n",
        "plt.show()"
      ],
      "execution_count": 6,
      "outputs": [
        {
          "output_type": "display_data",
          "data": {
            "image/png": "[encoded data removed]",
            "text/plain": [
              "<Figure size 432x288 with 1 Axes>"
            ]
          },
          "metadata": {
            "needs_background": "light"
          }
        }
      ]
    },
    {
      "cell_type": "code",
      "metadata": {
        "colab": {
          "base_uri": "https://localhost:8080/"
        },
        "id": "8sPLj0mFWQWm",
        "outputId": "ac96e3d6-4ee7-45dc-eb42-ad65eb7cf5d0"
      },
      "source": [
        "# 100번째 에폭이 적절하다 판단\n",
        "# tol=None으로 지정함으로써 조기종료 하지 않고 무조건 100 에폭 돌도록\n",
        "sc = SGDClassifier(loss='log', max_iter=100, tol=None, random_state=42)\n",
        "sc.fit(train_scaled, train_target)\n",
        "print(sc.score(train_scaled, train_target))\n",
        "print(sc.score(test_scaled, test_target))\n",
        "\n",
        "# 참고: loss 매개변수의 기본 값은 'hinge'이다. 힌지 손실(hinge loss)은\n",
        "# 서포트 벡터 머신이라 불리는 또 다른 머신러닝 알고리즘을 위한 손실함수다"
      ],
      "execution_count": 7,
      "outputs": [
        {
          "output_type": "stream",
          "name": "stdout",
          "text": [
            "0.957983193277311\n",
            "0.925\n"
          ]
        }
      ]
    }
  ]
}
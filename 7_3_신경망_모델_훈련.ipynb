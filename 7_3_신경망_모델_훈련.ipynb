{
  "nbformat": 4,
  "nbformat_minor": 0,
  "metadata": {
    "colab": {
      "name": "7-3-신경망_모델_훈련.ipynb",
      "provenance": [],
      "collapsed_sections": [],
      "authorship_tag": "ABX9TyO9ApzYOgnTRfgZPeWcU0M+"
    },
    "kernelspec": {
      "name": "python3",
      "display_name": "Python 3"
    },
    "language_info": {
      "name": "python"
    },
    "accelerator": "GPU"
  },
  "cells": [
    {
      "cell_type": "markdown",
      "source": [
        "## 손실 곡선\n",
        "fit() 메서드로 모델을 훈련할 때 출력의 마지막에 다음과 같은 메시지가 나왔다\n",
        "\n",
        "<tensorflow.python.keras.callbacks.History at 0x8f824ad9f080>\n",
        "\n",
        "주피터 노트북의 코드 셀은 마지막 라인의 실행 결과를 자동으로 출력한다. 즉 fit() 메서드가 무엇인가를 반환한다는 의미다. fit() 메서드는 History 클래스 객체를 반환하는데, 이 객체에는 훈련 과정에서 계산한 지표, 다시 말해 손실과 정확도 값이 저장되어있다. 이 값을 사용해서 그래프를 그려보자"
      ],
      "metadata": {
        "id": "pZtyr6B7tXlE"
      }
    },
    {
      "cell_type": "code",
      "execution_count": 1,
      "metadata": {
        "colab": {
          "base_uri": "https://localhost:8080/"
        },
        "id": "oCRh2E7Bo5fb",
        "outputId": "c2b64910-7593-41ae-c57b-97367a4702f9"
      },
      "outputs": [
        {
          "output_type": "stream",
          "name": "stdout",
          "text": [
            "Downloading data from https://storage.googleapis.com/tensorflow/tf-keras-datasets/train-labels-idx1-ubyte.gz\n",
            "32768/29515 [=================================] - 0s 0us/step\n",
            "40960/29515 [=========================================] - 0s 0us/step\n",
            "Downloading data from https://storage.googleapis.com/tensorflow/tf-keras-datasets/train-images-idx3-ubyte.gz\n",
            "26427392/26421880 [==============================] - 0s 0us/step\n",
            "26435584/26421880 [==============================] - 0s 0us/step\n",
            "Downloading data from https://storage.googleapis.com/tensorflow/tf-keras-datasets/t10k-labels-idx1-ubyte.gz\n",
            "16384/5148 [===============================================================================================] - 0s 0us/step\n",
            "Downloading data from https://storage.googleapis.com/tensorflow/tf-keras-datasets/t10k-images-idx3-ubyte.gz\n",
            "4423680/4422102 [==============================] - 0s 0us/step\n",
            "4431872/4422102 [==============================] - 0s 0us/step\n",
            "Model: \"sequential\"\n",
            "_________________________________________________________________\n",
            " Layer (type)                Output Shape              Param #   \n",
            "=================================================================\n",
            " flatten (Flatten)           (None, 784)               0         \n",
            "                                                                 \n",
            " dense (Dense)               (None, 100)               78500     \n",
            "                                                                 \n",
            " dense_1 (Dense)             (None, 10)                1010      \n",
            "                                                                 \n",
            "=================================================================\n",
            "Total params: 79,510\n",
            "Trainable params: 79,510\n",
            "Non-trainable params: 0\n",
            "_________________________________________________________________\n"
          ]
        }
      ],
      "source": [
        "# 패션 MNIST 데이터 적재 및 훈련셋 검증셋 나누기\n",
        "from tensorflow import keras\n",
        "from sklearn.model_selection import train_test_split\n",
        "(train_input, train_target), (test_input, test_target) =\\\n",
        "    keras.datasets.fashion_mnist.load_data()\n",
        "train_scaled = train_input / 255.0\n",
        "train_scaled, val_scaled, train_target, val_target = train_test_split(\n",
        "    train_scaled, train_target, test_size=0.2, random_state=42)\n",
        "\n",
        "# 모델을 만드는 함수\n",
        "def model_fn(a_layer=None):\n",
        "    model = keras.Sequential()\n",
        "    model.add(keras.layers.Flatten(input_shape=(28, 28)))\n",
        "    model.add(keras.layers.Dense(100, activation='relu'))\n",
        "    if a_layer:\n",
        "        model.add(a_layer)\n",
        "    model.add(keras.layers.Dense(10, activation='softmax'))\n",
        "    return model\n",
        "\n",
        "# model_fn 모델 구조\n",
        "model = model_fn()\n",
        "model.summary()"
      ]
    },
    {
      "cell_type": "code",
      "source": [
        "model.compile(loss='sparse_categorical_crossentropy', metrics='accuracy')\n",
        "history = model.fit(train_scaled, train_target, epochs=5, verbose=0)"
      ],
      "metadata": {
        "id": "WqsHyhwkwp9v"
      },
      "execution_count": 2,
      "outputs": []
    },
    {
      "cell_type": "markdown",
      "source": [
        "여기에서 verbose는 훈련 과정 출력을 조절한다. 기본값은 1로 에폭마다 진행 막대와 함께 손실 등의 지표가 출력된다. 2로 바꾸면 진행 막대를 빼고 출력된다. 이번에는 훈련 결과를 그래프로 나타내고 verbose를 0으로 지정하여 훈련 과정을 나타내지 않았다"
      ],
      "metadata": {
        "id": "RhSBuGN9xTxl"
      }
    },
    {
      "cell_type": "code",
      "source": [
        "# history 딕셔너리 속성값 확인\n",
        "print(history.history.keys())"
      ],
      "metadata": {
        "colab": {
          "base_uri": "https://localhost:8080/"
        },
        "id": "sI21CM8AxtvC",
        "outputId": "a2cb692d-d5db-4fcb-95ab-5af0131330e8"
      },
      "execution_count": 3,
      "outputs": [
        {
          "output_type": "stream",
          "name": "stdout",
          "text": [
            "dict_keys(['loss', 'accuracy'])\n"
          ]
        }
      ]
    },
    {
      "cell_type": "code",
      "source": [
        "# 그래프 - loss\n",
        "import matplotlib.pyplot as plt\n",
        "\n",
        "plt.plot(history.history['loss'])\n",
        "plt.xlabel('epoch')\n",
        "plt.ylabel('loss')\n",
        "plt.show()"
      ],
      "metadata": {
        "colab": {
          "base_uri": "https://localhost:8080/",
          "height": 279
        },
        "id": "kYVPGEjDyBGJ",
        "outputId": "14c3ed17-8f4b-4663-ffd8-235502d56c9c"
      },
      "execution_count": 4,
      "outputs": [
        {
          "output_type": "display_data",
          "data": {
            "image/png": "[encoded data removed]",
            "text/plain": [
              "<Figure size 432x288 with 1 Axes>"
            ]
          },
          "metadata": {
            "needs_background": "light"
          }
        }
      ]
    },
    {
      "cell_type": "code",
      "source": [
        "# 그래프 - accuracy\n",
        "plt.plot(history.history['accuracy'])\n",
        "plt.xlabel('epoch')\n",
        "plt.ylabel('accuracy')\n",
        "plt.show()"
      ],
      "metadata": {
        "colab": {
          "base_uri": "https://localhost:8080/",
          "height": 282
        },
        "id": "y2GPrcLQycYM",
        "outputId": "99701daf-df90-425e-b498-7f312194bed0"
      },
      "execution_count": 5,
      "outputs": [
        {
          "output_type": "display_data",
          "data": {
            "image/png": "[encoded data removed]",
            "text/plain": [
              "<Figure size 432x288 with 1 Axes>"
            ]
          },
          "metadata": {
            "needs_background": "light"
          }
        }
      ]
    },
    {
      "cell_type": "code",
      "source": [
        "# 모델 훈련 - 20 에폭 돌리기\n",
        "model = model_fn()\n",
        "model.compile(loss='sparse_categorical_crossentropy', metrics='accuracy')\n",
        "history = model.fit(train_scaled, train_target, epochs=20, verbose=0)\n",
        "\n",
        "plt.plot(history.history['loss'])\n",
        "plt.xlabel('epoch')\n",
        "plt.ylabel('loss')\n",
        "plt.show()"
      ],
      "metadata": {
        "colab": {
          "base_uri": "https://localhost:8080/",
          "height": 279
        },
        "id": "lrDzvP4vyt-l",
        "outputId": "a4b3ae38-708d-43c3-c5a9-01941dd2acb7"
      },
      "execution_count": 6,
      "outputs": [
        {
          "output_type": "display_data",
          "data": {
            "image/png": "[encoded data removed]",
            "text/plain": [
              "<Figure size 432x288 with 1 Axes>"
            ]
          },
          "metadata": {
            "needs_background": "light"
          }
        }
      ]
    },
    {
      "cell_type": "markdown",
      "source": [
        "\n",
        "## 검증 손실\n",
        "에폭에 따른 오버 언더피팅을 파악하려면 훈련셋에 대한 점수뿐만 아니라 검증셋에 대한 점수도 필요하다. 손실에 대한 두 점수를 견주었을 때 훈련셋과 검증셋의 점수의 차가 커질 때 오버피팅이라고 생각할 수 있기 때문이다. 이 장에서는 손실을 사용해 오버/언더피팅을 다뤄본다\n",
        "> 참고\n",
        "- 인공 신경망이 모델을 최적화하는 대상은 정확도가 아닌 손실함수다. 따라서 모델이 잘 훈련되었는지 판단하려면 정확도보다는 손실 함수의 값을 확인하는 것이 더 낫다"
      ],
      "metadata": {
        "id": "lS_ew3Lo0Xs0"
      }
    },
    {
      "cell_type": "code",
      "source": [
        "model = model_fn()\n",
        "model.compile(loss='sparse_categorical_crossentropy', metrics='accuracy')\n",
        "history = model.fit(train_scaled, train_target, epochs=20, verbose=0,\n",
        "                    validation_data=(val_scaled, val_target))"
      ],
      "metadata": {
        "id": "msvUfbGK1lfA"
      },
      "execution_count": 7,
      "outputs": []
    },
    {
      "cell_type": "code",
      "source": [
        "# history의 딕셔너리 값 확인\n",
        "print(history.history.keys())"
      ],
      "metadata": {
        "colab": {
          "base_uri": "https://localhost:8080/"
        },
        "id": "3km8e7ex2ZQn",
        "outputId": "910afd01-0cb6-42be-c93a-145b925f228e"
      },
      "execution_count": 8,
      "outputs": [
        {
          "output_type": "stream",
          "name": "stdout",
          "text": [
            "dict_keys(['loss', 'accuracy', 'val_loss', 'val_accuracy'])\n"
          ]
        }
      ]
    },
    {
      "cell_type": "code",
      "source": [
        "plt.plot(history.history['loss'])\n",
        "plt.plot(history.history['val_loss'])\n",
        "plt.xlabel('epoch')\n",
        "plt.ylabel('loss')\n",
        "plt.legend(['train', 'val'])\n",
        "plt.show()"
      ],
      "metadata": {
        "colab": {
          "base_uri": "https://localhost:8080/",
          "height": 282
        },
        "id": "chzmqady2w4S",
        "outputId": "92505d77-deb4-4003-f5e7-091feb097dd4"
      },
      "execution_count": 9,
      "outputs": [
        {
          "output_type": "display_data",
          "data": {
            "image/png": "[encoded data removed]",
            "text/plain": [
              "<Figure size 432x288 with 1 Axes>"
            ]
          },
          "metadata": {
            "needs_background": "light"
          }
        }
      ]
    },
    {
      "cell_type": "code",
      "source": [
        "# optimizer를 adam으로 바꾸어 훈련\n",
        "model=model_fn()\n",
        "model.compile(optimizer='adam', loss='sparse_categorical_crossentropy',\n",
        "              metrics='accuracy')\n",
        "history = model.fit(train_scaled, train_target, epochs=20, verbose=0,\n",
        "                    validation_data=(val_scaled, val_target))\n",
        "\n",
        "plt.plot(history.history['loss'])\n",
        "plt.plot(history.history['val_loss'])\n",
        "plt.xlabel('epoch')\n",
        "plt.ylabel('loss')\n",
        "plt.legend(['train', 'val'])\n",
        "plt.show()"
      ],
      "metadata": {
        "colab": {
          "base_uri": "https://localhost:8080/",
          "height": 279
        },
        "id": "aB3gQh4Y3RBg",
        "outputId": "f93a7693-908d-4820-c133-116b4218c352"
      },
      "execution_count": 10,
      "outputs": [
        {
          "output_type": "display_data",
          "data": {
            "image/png": "[encoded data removed]",
            "text/plain": [
              "<Figure size 432x288 with 1 Axes>"
            ]
          },
          "metadata": {
            "needs_background": "light"
          }
        }
      ]
    },
    {
      "cell_type": "markdown",
      "source": [
        "## 드롭 아웃\n",
        "**드롭 아웃(drop out)**은 훈련 과정에서 층에 있는 일부 뉴런의 출력을 0으로 만들어 오버피팅을 막는 기법이다. 오버피팅을 막는 이유는 이전 층의 일부 뉴런이 랜덤하게 꺼지면 특정 뉴런에 과대하게 의존하는 것을 줄일 수 있고 모든 입력에 대해 주의를 기울여야 하기 때문이다. 또 다른 해석은 일부 뉴런의 출력을 0으로 만든 여러 신경망을 앙상블로 보아 오버피팅을 막았다는 것이다\n",
        "\n",
        "앞에서 정의한 model_fn에 드롭 아웃 객체를 전달해 층을 추가해보자. 어떤 층의 뒤에 드롭 아웃을 두어 그 층의 출력을 랜덤하게 0으로 만드는 것으로, 드롭 아웃 층의 자체 파라미터는 없다"
      ],
      "metadata": {
        "id": "sZl9pjDG_hnq"
      }
    },
    {
      "cell_type": "code",
      "source": [
        "# 30% 드롭 아웃\n",
        "model = model_fn(keras.layers.Dropout(0.3))\n",
        "model.summary()"
      ],
      "metadata": {
        "colab": {
          "base_uri": "https://localhost:8080/"
        },
        "id": "SW7XkgSvByGX",
        "outputId": "65f7c1b7-6a16-453a-ca25-1e61b3d62d7f"
      },
      "execution_count": 11,
      "outputs": [
        {
          "output_type": "stream",
          "name": "stdout",
          "text": [
            "Model: \"sequential_4\"\n",
            "_________________________________________________________________\n",
            " Layer (type)                Output Shape              Param #   \n",
            "=================================================================\n",
            " flatten_4 (Flatten)         (None, 784)               0         \n",
            "                                                                 \n",
            " dense_8 (Dense)             (None, 100)               78500     \n",
            "                                                                 \n",
            " dropout (Dropout)           (None, 100)               0         \n",
            "                                                                 \n",
            " dense_9 (Dense)             (None, 10)                1010      \n",
            "                                                                 \n",
            "=================================================================\n",
            "Total params: 79,510\n",
            "Trainable params: 79,510\n",
            "Non-trainable params: 0\n",
            "_________________________________________________________________\n"
          ]
        }
      ]
    },
    {
      "cell_type": "markdown",
      "source": [
        "위와 같이 드롭 아웃 층은 자체 파라미터가 없고, 일부 뉴런의 출력을 0으로 만들지만 전체 출력 배열의 크기를 바꾸지 않는다. 또한 훈련이 끝난 후에는 훈련된 모든 뉴런을 사용해야하기 때문에 드롭 아웃을 적용하지 않아야한다. 하지만 모델을 훈련한 뒤 평가와 예측에 사용할 때는 케라스가 알아서 드롭 아웃을 적용하지 않기 때문에 따로 층을 빼거나 할 필요는 없다"
      ],
      "metadata": {
        "id": "gP-wlHVvCaXH"
      }
    },
    {
      "cell_type": "code",
      "source": [
        "# 드롭 아웃을 적용하여 훈련\n",
        "model.compile(optimizer='adam', loss='sparse_categorical_crossentropy',\n",
        "              metrics='accuracy')\n",
        "history = model.fit(train_scaled, train_target, epochs=20, verbose=0, \n",
        "                    validation_data=(val_scaled, val_target))\n",
        "\n",
        "plt.plot(history.history['loss'])\n",
        "plt.plot(history.history['val_loss'])\n",
        "plt.xlabel('epoch')\n",
        "plt.ylabel('loss')\n",
        "plt.legend(['train', 'val'])\n",
        "plt.show()"
      ],
      "metadata": {
        "colab": {
          "base_uri": "https://localhost:8080/",
          "height": 279
        },
        "id": "oQPFnuxoDEqb",
        "outputId": "77fbb463-71ae-4ff9-d212-96de41c9cee0"
      },
      "execution_count": 12,
      "outputs": [
        {
          "output_type": "display_data",
          "data": {
            "image/png": "[encoded data removed]",
            "text/plain": [
              "<Figure size 432x288 with 1 Axes>"
            ]
          },
          "metadata": {
            "needs_background": "light"
          }
        }
      ]
    },
    {
      "cell_type": "markdown",
      "source": [
        "## 모델 저장과 복원\n",
        "위의 모델은 20에폭을 돌렸기 때문에 약간 오버피팅이 되어있다고 할 수 있다. 따라서 10에폭으로 축소하고 모델을 저장해보자\n",
        "\n",
        "케라스 모델은 훈련된 모델의 파라미터를 저장하는 save_weights() 메서드를 제공한다. 기본적으로 텐서플로의 체크포인트 포맷으로 저장하지만 파일의 확장자가 .h5면 HDF5 포맷으로 저장한다. 또한 모델 구조와 모델 파라미터를 함께 저장하는 save() 메서드도 제공한다. 기본적으로 이 메서드는 텐서플로의 SavedModel 포맷으로 저장하지만 파일의 확장자가 .h5일 경우 HDF5 포맷으로 저장한다"
      ],
      "metadata": {
        "id": "YwkmLRdHEavV"
      }
    },
    {
      "cell_type": "code",
      "source": [
        "model = model_fn(keras.layers.Dropout(0.3))\n",
        "model.compile(optimizer='adam', loss='sparse_categorical_crossentropy',\n",
        "              metrics='accuracy')\n",
        "history = model.fit(train_scaled, train_target, epochs=10, verbose=0,\n",
        "                    validation_data=(val_scaled, val_target))"
      ],
      "metadata": {
        "id": "N1Hl7JvXFtew"
      },
      "execution_count": 13,
      "outputs": []
    },
    {
      "cell_type": "code",
      "source": [
        "model.save_weights('model-weights.h5')\n",
        "model.save('model-whole.h5')\n",
        "\n",
        "!ls -al *.h5"
      ],
      "metadata": {
        "colab": {
          "base_uri": "https://localhost:8080/"
        },
        "id": "p-kcE-MtGHbm",
        "outputId": "99e7e54d-65aa-4c92-b65d-5d4a3c0c9e61"
      },
      "execution_count": 14,
      "outputs": [
        {
          "output_type": "stream",
          "name": "stdout",
          "text": [
            "-rw-r--r-- 1 root root 333448 Dec 27 13:34 model-weights.h5\n",
            "-rw-r--r-- 1 root root 982664 Dec 27 13:34 model-whole.h5\n"
          ]
        }
      ]
    },
    {
      "cell_type": "code",
      "source": [
        "# 실험1: 훈련 하지 않은 새로운 모델을 만들고 model-weights.h5\n",
        "#       파일에서 훈련된 모델 파라미터를 읽어서 사용\n",
        "model = model_fn(keras.layers.Dropout(0.3))\n",
        "model.load_weights('model-weights.h5')\n",
        "\n",
        "import numpy as np\n",
        "\n",
        "val_labels = np.argmax(model.predict(val_scaled), axis=-1)\n",
        "print(np.mean(val_labels == val_target))"
      ],
      "metadata": {
        "colab": {
          "base_uri": "https://localhost:8080/"
        },
        "id": "02LwszjjGYRK",
        "outputId": "e4c756a8-c317-4bec-87e7-d26addc5a20c"
      },
      "execution_count": 15,
      "outputs": [
        {
          "output_type": "stream",
          "name": "stdout",
          "text": [
            "0.8825833333333334\n"
          ]
        }
      ]
    },
    {
      "cell_type": "code",
      "source": [
        "# 실험2: model-whole.h5에서 새로운 모델을 만들어 바로 사용\n",
        "model = keras.models.load_model('model-whole.h5')\n",
        "model.evaluate(val_scaled, val_target)"
      ],
      "metadata": {
        "colab": {
          "base_uri": "https://localhost:8080/"
        },
        "id": "nR_UT8rlItCh",
        "outputId": "fd96b1b2-8205-4fa6-a60f-0642fc95d12f"
      },
      "execution_count": 16,
      "outputs": [
        {
          "output_type": "stream",
          "name": "stdout",
          "text": [
            "375/375 [==============================] - 1s 3ms/step - loss: 0.3332 - accuracy: 0.8826\n"
          ]
        },
        {
          "output_type": "execute_result",
          "data": {
            "text/plain": [
              "[0.3331752121448517, 0.8825833201408386]"
            ]
          },
          "metadata": {},
          "execution_count": 16
        }
      ]
    },
    {
      "cell_type": "markdown",
      "source": [
        "두 실험 모두 같은 결과를 냈다. 첫 번째 실험에서는 predict() 메서드를 사용해 검증셋을 테스트했다. predict는 샘플마다 10개의 클래스에 대한 확률을 반환한다. 따라서 argmax() 메서드를 사용해 10개의 클래스 중 가장 높은 확률에 대한 인덱스를 반환하도록 했다. axis에 -1을 넣은 건 배열의 마지막 차원을 따라 최댓값을 구한다는 의미인데, 여기서는 2차원이므로 axis는 자동으로 1이 되고 열 마다의 최댓값을 계산한다. 두 번째 실험에서는 evaluate() 메서드를 이용해서 테스트했는데, evaluate는 쉽게 정확도를 계산해준다. 이때 첫 실험에서 evaluate를 사용하지 못한 이유는 손실을 계산하기 위해서 compile() 메서드를 무조건 실행해야 하기 때문이다. 두 번째 실험은 모델 구조와 옵티마이저 상태까지 모두 복원하기 때문에 evaluate() 메서드를 사용할 수 있다\n",
        "\n",
        "위에서는 20에폭을 돌린 후 오버피팅이 되는 것을 확인하고 10에폭으로 축소해서 돌렸다. 케라스의 콜백을 사용하면 이 훈련을 한 번에 끝낼 수 있다\n",
        "\n",
        "## 콜백\n",
        "**콜백(callback)**은 훈련 과정 중간에 어떤 작업을 수행할 수 있게 하는 객체로 keras.callbacks 패키지 아래에 있는 클래스들이고, fit() 메서드의 callbacks 매개변수에 리스트로 전달하여 사용한다. 여기에서 사용할 ModelCheckpoint 콜백은 기본적으로 에폭마다 모델을 저장한다. save_best_only 매개변수를 True로 지정하면 가장 낮은 검증 점수를 만드는 모델을 저장할 수 있다"
      ],
      "metadata": {
        "id": "kqY6Wt5DJNDi"
      }
    },
    {
      "cell_type": "code",
      "source": [
        "model = model_fn(keras.layers.Dropout(0.3))\n",
        "model.compile(optimizer='adam', loss='sparse_categorical_crossentropy',\n",
        "              metrics='accuracy')\n",
        "checkpoint_cb = keras.callbacks.ModelCheckpoint('best-model.h5',\n",
        "                                                save_best_only=True)\n",
        "model.fit(train_scaled, train_target, epochs=20, verbose=0,\n",
        "          validation_data=(val_scaled, val_target),\n",
        "          callbacks=[checkpoint_cb])\n",
        "\n",
        "# 최상의 검증 점수를 낸 best-model.h5 모델로 예측 수행\n",
        "model = keras.models.load_model('best-model.h5')\n",
        "model.evaluate(val_scaled, val_target)"
      ],
      "metadata": {
        "colab": {
          "base_uri": "https://localhost:8080/"
        },
        "id": "Myh5PEt9L0yR",
        "outputId": "72547262-4f11-41b1-eb49-b6bf550387dc"
      },
      "execution_count": 18,
      "outputs": [
        {
          "output_type": "stream",
          "name": "stdout",
          "text": [
            "375/375 [==============================] - 1s 3ms/step - loss: 0.3184 - accuracy: 0.8898\n"
          ]
        },
        {
          "output_type": "execute_result",
          "data": {
            "text/plain": [
              "[0.3184126019477844, 0.8898333311080933]"
            ]
          },
          "metadata": {},
          "execution_count": 18
        }
      ]
    },
    {
      "cell_type": "markdown",
      "source": [
        "ModelCheckpoint 콜백이 가장 낮은 점수의 모델을 자동으로 저장해주지만 여전이 20에폭을 돌린다. 검증 점수가 상승하면 이후에는 오버피팅이 더 커지기 때문에 훈련을 계속할 필요가 없다. 이렇게 오버피팅이 되기 전에 훈련을 미리 중지시키는 것을 **조기 종료(early stopping)**라고 부른다. 케라스에는 EarlyStopping 콜백을 제공한다. patience 매개변수로 검증 점수가 향상되지 않더라도 참을 에폭 횟수를 지정하고, restore_best_weights 매개변수를 True로 지정하면 가장 낮은 검증 손실을 낸 모델 파라미터로 되돌린다. 이 콜백과 앞의 ModelCheckpoint 콜백을 함께 사용해보자"
      ],
      "metadata": {
        "id": "-O5b77-yNdWk"
      }
    },
    {
      "cell_type": "code",
      "source": [
        "model = model_fn(keras.layers.Dropout(0.3))\n",
        "model.compile(optimizer='adam', loss='sparse_categorical_crossentropy',\n",
        "              metrics='accuracy')\n",
        "checkpoint_cb = keras.callbacks.ModelCheckpoint('best-model.h5',\n",
        "                                                save_best_only=True)\n",
        "early_stopping_cb = keras.callbacks.EarlyStopping(patience=2, \n",
        "                                                  restore_best_weights=True)\n",
        "history = model.fit(train_scaled, train_target, epochs=20, verbose=0,\n",
        "          validation_data=(val_scaled, val_target),\n",
        "          callbacks=[checkpoint_cb, early_stopping_cb])\n",
        "\n",
        "# 돌린 에폭 횟수\n",
        "print(early_stopping_cb.stopped_epoch)\n",
        "\n",
        "# 훈련 손실과 검증 손실\n",
        "plt.plot(history.history['loss'])\n",
        "plt.plot(history.history['val_loss'])\n",
        "plt.xlabel('epoch')\n",
        "plt.ylabel('loss')\n",
        "plt.legend(['train', 'val'])\n",
        "plt.show()"
      ],
      "metadata": {
        "colab": {
          "base_uri": "https://localhost:8080/",
          "height": 298
        },
        "id": "hFtqbzBaOyRZ",
        "outputId": "fafbc1f1-b410-4505-c9f5-342786ad8106"
      },
      "execution_count": 19,
      "outputs": [
        {
          "output_type": "stream",
          "name": "stdout",
          "text": [
            "7\n"
          ]
        },
        {
          "output_type": "display_data",
          "data": {
            "image/png": "[encoded data removed]",
            "text/plain": [
              "<Figure size 432x288 with 1 Axes>"
            ]
          },
          "metadata": {
            "needs_background": "light"
          }
        }
      ]
    },
    {
      "cell_type": "code",
      "source": [
        "# 조기 종료 성능 확인\n",
        "model.evaluate(val_scaled, val_target)"
      ],
      "metadata": {
        "colab": {
          "base_uri": "https://localhost:8080/"
        },
        "id": "XMaab1oqP7CS",
        "outputId": "ffbe5063-d071-4206-a41b-fe6b7a9a4793"
      },
      "execution_count": 20,
      "outputs": [
        {
          "output_type": "stream",
          "name": "stdout",
          "text": [
            "375/375 [==============================] - 1s 3ms/step - loss: 0.3328 - accuracy: 0.8764\n"
          ]
        },
        {
          "output_type": "execute_result",
          "data": {
            "text/plain": [
              "[0.33281275629997253, 0.8764166831970215]"
            ]
          },
          "metadata": {},
          "execution_count": 20
        }
      ]
    },
    {
      "cell_type": "code",
      "source": [
        "test_scaled = test_input / 255.0\n",
        "model.evaluate(test_scaled, test_target)"
      ],
      "metadata": {
        "colab": {
          "base_uri": "https://localhost:8080/"
        },
        "id": "o0A29niOQBdu",
        "outputId": "af9c4d88-cfa7-4404-f81a-131cf9ecf4d6"
      },
      "execution_count": 22,
      "outputs": [
        {
          "output_type": "stream",
          "name": "stdout",
          "text": [
            "313/313 [==============================] - 1s 4ms/step - loss: 0.3649 - accuracy: 0.8691\n"
          ]
        },
        {
          "output_type": "execute_result",
          "data": {
            "text/plain": [
              "[0.364921510219574, 0.8690999746322632]"
            ]
          },
          "metadata": {},
          "execution_count": 22
        }
      ]
    }
  ]
}